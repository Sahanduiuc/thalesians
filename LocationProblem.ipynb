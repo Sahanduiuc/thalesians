{
 "cells": [
  {
   "cell_type": "code",
   "execution_count": null,
   "metadata": {
    "collapsed": false
   },
   "outputs": [],
   "source": [
    "import talk.config as con\n",
    "\n",
    "% matplotlib inline\n",
    "\n",
    "# environment variable for MOSEK\n",
    "con.config_mosek()\n",
    "con.config_configManager()\n",
    "con.config_matplotlib()"
   ]
  },
  {
   "cell_type": "code",
   "execution_count": null,
   "metadata": {
    "collapsed": false
   },
   "outputs": [],
   "source": [
    "import numpy as np\n",
    "pos = np.random.randn(1000,2)"
   ]
  },
  {
   "cell_type": "code",
   "execution_count": null,
   "metadata": {
    "collapsed": true
   },
   "outputs": [],
   "source": [
    "from mosek.fusion import *\n",
    "\n",
    "def two_norm(model, v):\n",
    "    t = model.variable(1, Domain.greaterThan(0.0))\n",
    "    model.constraint(Expr.vstack(t, v), Domain.inQCone())\n",
    "    return t\n",
    "\n",
    "def __abs(model, v):\n",
    "    t = model.variable(int(v.size()), Domain.greaterThan(0.0))\n",
    "    model.constraint(Expr.hstack(t, v), Domain.inQCone(int(v.size()), 2))\n",
    "    return t\n",
    "\n",
    "def infty_norm(model, v):\n",
    "    t = __abs(model, v)\n",
    "    m = model.variable(1, Domain.unbounded())\n",
    "    model.constraint(Expr.sub(Variable.repeat(m,int(t.size())),t), Domain.greaterThan(0.0))\n",
    "    return m"
   ]
  },
  {
   "cell_type": "code",
   "execution_count": null,
   "metadata": {
    "collapsed": false
   },
   "outputs": [],
   "source": [
    "from mosek.fusion import *\n",
    "    \n",
    "with Model('center') as model:\n",
    "    # variable for the center\n",
    "    p = model.variable('p', 2, Domain.unbounded())\n",
    "    # Distances for each point from the centre\n",
    "    distances = Expr.vstack([two_norm(model, Expr.sub(Expr.constTerm(row),p)).asExpr() for row in pos])\n",
    "    # max distance!\n",
    "    m = infty_norm(model, distances)\n",
    "    \n",
    "    model.objective(ObjectiveSense.Minimize, m)\n",
    "    model.solve()\n",
    "    \n",
    "    midpoint = np.array(p.level())\n",
    "    radius = m.level()[0]\n",
    "    \n",
    "import math\n",
    "c=np.array([[radius*np.cos(a)+midpoint[0], radius*np.sin(a)+midpoint[1]] for a in np.linspace(0,2*math.pi,1000)])\n",
    "\n",
    "import matplotlib.pyplot as plt\n",
    "plt.plot(c[:,0],c[:,1],'r')\n",
    "plt.scatter(pos[:,0], pos[:,1],s=50,marker=u'x')\n",
    "plt.xlabel('x'), plt.ylabel('y')\n",
    "plt.axis('equal')\n",
    "plt.show()\n",
    "print(midpoint)\n",
    "print(radius)\n",
    "?? plt.scatter"
   ]
  }
 ],
 "metadata": {
  "kernelspec": {
   "display_name": "Python 2",
   "language": "python",
   "name": "python2"
  },
  "language_info": {
   "codemirror_mode": {
    "name": "ipython",
    "version": 2
   },
   "file_extension": ".py",
   "mimetype": "text/x-python",
   "name": "python",
   "nbconvert_exporter": "python",
   "pygments_lexer": "ipython2",
   "version": "2.7.10"
  }
 },
 "nbformat": 4,
 "nbformat_minor": 0
}
