{
 "cells": [
  {
   "cell_type": "code",
   "execution_count": null,
   "metadata": {
    "collapsed": false,
    "slideshow": {
     "slide_type": "slide"
    }
   },
   "outputs": [],
   "source": [
    "import talk.config as con\n",
    "\n",
    "# environment variable for MOSEK\n",
    "con.config_mosek()\n",
    "con.config_configManager()"
   ]
  },
  {
   "cell_type": "markdown",
   "metadata": {
    "slideshow": {
     "slide_type": "slide"
    }
   },
   "source": [
    "Leveraged Portfolios\n",
    "---------------------\n",
    "https://en.wikipedia.org/wiki/130%E2%80%9330_fund\n",
    "\n",
    "#### Thomas Schmelzer"
   ]
  },
  {
   "cell_type": "markdown",
   "metadata": {
    "slideshow": {
     "slide_type": "slide"
    }
   },
   "source": [
    "\n",
    "### A 130/30 Equity Portfolio\n",
    "\n",
    "- Allocate capital $C=1$. Sell short at most $c = 0.3$ to finance a long position of $1 + c$. \n",
    "- Universe of $n$ assets:\n",
    "\\begin{align}\\mathbf{x}^{*}=\\arg\\max_{\\mathbf{x} \\in \\mathbb{R}^n}& \\mu^{T}\\mathbf{x}\\\\\n",
    "\\text{s.t. } &\\Sigma\\,x_i=1\\\\\n",
    "             &\\Sigma\\,\\lvert x_i\\rvert \\leq 1 + 2c\\\\\n",
    "            &\\sqrt{\\mathbf{x}^T\\mathbf{C}\\mathbf{x}} \\leq \\sigma_{\\max}\n",
    "\\end{align}\n"
   ]
  },
  {
   "cell_type": "markdown",
   "metadata": {
    "slideshow": {
     "slide_type": "slide"
    }
   },
   "source": [
    "### Cholesky decomposition of the covariance matrix:\n",
    "$$\\sqrt{\\mathbf{x}^T\\mathbf{C}\\mathbf{x}}=\\sqrt{\\mathbf{x}^T\\mathbf{G G}^T\\mathbf{x}}=\\rVert{\\mathbf{G}^T\\mathbf{x}}\\lVert_2$$\n",
    "Introduce the cone $[y, G^T x] \\in \\mathcal{Q}_{n+1}$.\n"
   ]
  },
  {
   "cell_type": "markdown",
   "metadata": {
    "slideshow": {
     "slide_type": "slide"
    }
   },
   "source": [
    "### The absolute value:\n",
    "$$\\lvert{x_i}\\rvert=\\sqrt{x_i^2}=\\rVert{x_i}\\lVert_2$$\n",
    "The sum of absolute values (e.g. the $1$-norm) is replaced by $n$ cones of dimension $2$, e.g.\n",
    "$[t_i, x_i] \\in \\mathcal{Q}_2$. Now\n",
    "$$\\Sigma\\,t_i \\leq 1 + 2c$$ implies $$\\Sigma\\,\\lvert x_i\\rvert \\leq 1 + 2c$$"
   ]
  },
  {
   "cell_type": "markdown",
   "metadata": {
    "slideshow": {
     "slide_type": "slide"
    }
   },
   "source": [
    "\\begin{align}\\mathbf{x}^{*}=\\arg\\max_{\\mathbf{x} \\in \\mathbb{R}^n}& \\mu^{T}\\mathbf{x}\\\\\n",
    "\\text{s.t. } &\\Sigma\\,x_i=1\\\\\n",
    "             &\\Sigma\\, t_i \\leq 1 + 2c\\\\\n",
    "             &[y, G^T x] \\in \\mathcal{Q}_{n+1}\\\\\n",
    "             &y \\leq \\sigma_{\\max}\\\\\n",
    "             &[t_i, x_i] \\in \\mathcal{Q}_2,\\,\\,i \\in [1,\\ldots,n]\n",
    "\\end{align}\n"
   ]
  },
  {
   "cell_type": "code",
   "execution_count": null,
   "metadata": {
    "collapsed": false,
    "slideshow": {
     "slide_type": "slide"
    }
   },
   "outputs": [],
   "source": [
    "from mosek.fusion import Model, DenseMatrix, Domain, Expr, ObjectiveSense\n",
    "import numpy as np\n",
    "# make some random data, e.g. cov-matrix and expected returns\n",
    "n = 100\n",
    "c = 0.9\n",
    "C = c * np.ones((n, n)) + (1 - c) * np.eye(n)\n",
    "mu = 0.05 * np.sin(range(0, n))\n",
    "# maximal volatility and leverage...\n",
    "sigma_max = 1.0\n",
    "excess = 0.3\n",
    "\n",
    "with Model('equity') as model:\n",
    "    w = model.variable(\"w\", mu.size, Domain.unbounded())\n",
    "    t = model.variable(\"t\", mu.size, Domain.unbounded())\n",
    "\n",
    "    # e'*w = 1\n",
    "    model.constraint(Expr.sum(w), Domain.equalsTo(1.0))\n",
    "\n",
    "    # e'*t <= 1 + 2*excess\n",
    "    model.constraint(Expr.sum(t), Domain.lessThan(1.0 + 2 * excess))\n",
    "\n",
    "    # attach the cones t_i >= Norm(w_i)\n",
    "    model.constraint(Expr.hstack(t, w), Domain.inQCone(int(w.size()), 2))\n",
    "\n",
    "    # Norm(G^T*w) <= sigma_max \n",
    "    G_transpose = np.transpose(np.linalg.cholesky(C))\n",
    "    model.constraint(Expr.vstack(Expr.constTerm(sigma_max), Expr.mul(DenseMatrix(G_transpose), w)), Domain.inQCone())\n",
    "\n",
    "    # maximize objective mu'w\n",
    "    model.objective(ObjectiveSense.Maximize, Expr.dot(mu, w)), model.solve()\n",
    "    f = np.array(w.level())\n",
    "\n",
    "print(\"Sum of positive weights: {0}\".format(np.sum(f[f > 0])))\n",
    "print(\"Sum of negative weights: {0}\".format(np.sum(f[f < 0])))\n",
    "print(\"Sum of all weights:      {0}\".format(np.sum(f)))"
   ]
  },
  {
   "cell_type": "markdown",
   "metadata": {
    "slideshow": {
     "slide_type": "slide"
    }
   },
   "source": [
    "### Summary\n",
    "\n",
    "- Leverage is here a constraint for the $1$-norm of the weight vector.\n",
    "\n",
    "\n",
    "- We replace the $1$-norm of a vector of length $n$ with $n$ cones each of dimension $2$.\n",
    "\n",
    "\n",
    "- We compute the Cholesky decomposition of a $n \\times n$ covariance matrix to introduce a cone of dimension $n + 1$."
   ]
  },
  {
   "cell_type": "markdown",
   "metadata": {
    "slideshow": {
     "slide_type": "slide"
    }
   },
   "source": [
    "<a href=http://localhost:8888>Back to Overview</a>"
   ]
  },
  {
   "cell_type": "code",
   "execution_count": null,
   "metadata": {
    "collapsed": false
   },
   "outputs": [],
   "source": [
    "from mosek.fusion import Model, DenseMatrix, Domain, Expr, ObjectiveSense\n",
    "import numpy as np\n",
    "# make some random data, e.g. cov-matrix and expected returns\n",
    "n = 100\n",
    "c = 0.9\n",
    "C = c * np.ones((n, n)) + (1 - c) * np.eye(n)\n",
    "mu = 0.05 * np.sin(range(0, n))\n",
    "# maximal volatility and leverage...\n",
    "sigma_max = 1.0\n",
    "excess = 0.3\n",
    "\n",
    "def one_norm(model, v):\n",
    "    t = model.variable(int(v.size()), Domain.greaterThan(0.0))\n",
    "    model.constraint(Expr.hstack(t, v), Domain.inQCone(int(v.size()), 2))\n",
    "    return Expr.sum(t)\n",
    "\n",
    "with Model('equity') as model:\n",
    "    w = model.variable(\"w\", mu.size, Domain.unbounded())\n",
    "    \n",
    "    # e'*w = 1\n",
    "    model.constraint(Expr.sum(w), Domain.equalsTo(1.0))\n",
    "\n",
    "    # e'*t <= 1 + 2*excess\n",
    "    model.constraint(one_norm(model, w), Domain.lessThan(1.0 + 2 * excess))\n",
    "\n",
    "    # Norm(G^T*w) <= sigma_max \n",
    "    G_transpose = np.transpose(np.linalg.cholesky(C))\n",
    "    model.constraint(Expr.vstack(Expr.constTerm(sigma_max), Expr.mul(DenseMatrix(G_transpose), w)), Domain.inQCone())\n",
    "\n",
    "    # maximize objective mu'w\n",
    "    model.objective(ObjectiveSense.Maximize, Expr.dot(mu, w)), model.solve()\n",
    "    f = np.array(w.level())\n",
    "\n",
    "print(\"Sum of positive weights: {0}\".format(np.sum(f[f > 0])))\n",
    "print(\"Sum of negative weights: {0}\".format(np.sum(f[f < 0])))\n",
    "print(\"Sum of all weights:      {0}\".format(np.sum(f)))"
   ]
  },
  {
   "cell_type": "code",
   "execution_count": null,
   "metadata": {
    "collapsed": true
   },
   "outputs": [],
   "source": []
  }
 ],
 "metadata": {
  "celltoolbar": "Slideshow",
  "kernelspec": {
   "display_name": "Python 2",
   "language": "python",
   "name": "python2"
  },
  "language_info": {
   "codemirror_mode": {
    "name": "ipython",
    "version": 2
   },
   "file_extension": ".py",
   "mimetype": "text/x-python",
   "name": "python",
   "nbconvert_exporter": "python",
   "pygments_lexer": "ipython2",
   "version": "2.7.10"
  }
 },
 "nbformat": 4,
 "nbformat_minor": 0
}
