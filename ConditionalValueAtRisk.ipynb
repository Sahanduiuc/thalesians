{
 "cells": [
  {
   "cell_type": "code",
   "execution_count": null,
   "metadata": {
    "collapsed": false,
    "slideshow": {
     "slide_type": "slide"
    }
   },
   "outputs": [],
   "source": [
    "import talk.config as con\n",
    "\n",
    "% matplotlib inline\n",
    "\n",
    "con.config_mosek()\n",
    "con.config_configManager()\n",
    "con.config_matplotlib()"
   ]
  },
  {
   "cell_type": "markdown",
   "metadata": {
    "slideshow": {
     "slide_type": "slide"
    }
   },
   "source": [
    "The Conditional Value at Risk\n",
    "-------------------------------\n",
    "https://en.wikipedia.org/wiki/Expected_shortfall\n",
    "\n",
    "#### Thomas Schmelzer"
   ]
  },
  {
   "cell_type": "markdown",
   "metadata": {
    "slideshow": {
     "slide_type": "slide"
    }
   },
   "source": [
    "The $\\alpha=0.99$ tail of a loss distribution \n",
    "-----------------------------------------------\n",
    "<img src=\"talk/tail.jpg\" style=\"margin-left:auto; margin-right:auto; display:block\">"
   ]
  },
  {
   "cell_type": "markdown",
   "metadata": {
    "slideshow": {
     "slide_type": "slide"
    }
   },
   "source": [
    "* In this talk we assume losses are postive. Larger losses, more pain... We want negative losses!\n",
    "\n",
    "* The value at risk $\\mathtt{VaR}_{\\alpha}$ at level $\\alpha$ is (the smallest) loss such that $\\alpha \\%$ of losses are smaller than $\\mathtt{VaR}_{\\alpha}$.\n",
    "\n",
    "* This does not say anything about the magnitude of the losses larger than the $\\mathtt{VaR}_{\\alpha}$. We can only make statements about their number: $n(1 - \\alpha)$\n",
    "\n",
    "* To describe the tail of the return distribution better one could use the Conditional Value at Risk $\\mathtt{CVaR}_{\\alpha}$, defined as the mean of the losses larger (or equal) than the $\\mathtt{VaR}_{\\alpha}$.\n"
   ]
  },
  {
   "cell_type": "code",
   "execution_count": null,
   "metadata": {
    "collapsed": false,
    "slideshow": {
     "slide_type": "slide"
    }
   },
   "outputs": [],
   "source": [
    "import numpy as np\n",
    "\n",
    "\n",
    "def tail(ts, alpha=0.99):\n",
    "    return np.sort(ts)[int(len(ts) * alpha):]\n",
    "\n",
    "\n",
    "def value_at_risk(ts, alpha=0.99):\n",
    "    return tail(ts, alpha)[0]\n",
    "\n",
    "\n",
    "def cvalue_at_risk(ts, alpha=0.99):\n",
    "    return np.mean(tail(ts, alpha))\n",
    "\n",
    "\n",
    "R = np.array([-1.0, 2.0, 3.0, 2.0, 4.0, 2.0, 0.0, 1.0, -2.0, -2.0])\n",
    "print(\"Length: {0}\".format(len(R)))\n",
    "print(\"Tail:   {0}\".format(tail(R, alpha=0.80)))\n",
    "print(\"VaR:    {0}\".format(value_at_risk(R, alpha=0.80)))\n",
    "print(\"CVaR:   {0}\".format(cvalue_at_risk(R, alpha=0.80)))"
   ]
  },
  {
   "cell_type": "markdown",
   "metadata": {
    "slideshow": {
     "slide_type": "slide"
    }
   },
   "source": [
    "Sub-additivity:\n",
    "---------------\n",
    "\n",
    "$\\mathrm{If}\\; Z_1,Z_2 \\in \\mathcal{L} ,$ then $\\varrho(Z_1 + Z_2) \\leq \\varrho(Z_1) + \\varrho(Z_2)$\n",
    "\n",
    "The risk of two portfolios together cannot get any worse than adding the two risks separately: this is the diversification principle.\n",
    "\n",
    "The $\\mathtt{VaR}_{\\alpha}$ **is not** sub-additive. It is not convex either.\n",
    "\n",
    "The $\\mathtt{CVaR}$ **is** sub-additive and convex. \n",
    "\n",
    "\n",
    "Other convex risk measures:    Entropic Value-at-Risk, ...\n"
   ]
  },
  {
   "cell_type": "code",
   "execution_count": null,
   "metadata": {
    "collapsed": false,
    "slideshow": {
     "slide_type": "subslide"
    }
   },
   "outputs": [],
   "source": [
    "import numpy.random as nr\n",
    "import pandas as pd\n",
    "\n",
    "# number of draws...\n",
    "n = 10000000\n",
    "alpha = 0.99\n",
    "\n",
    "# Let's define two portfolios A and B\n",
    "frame = pd.DataFrame(data=nr.uniform(0, 10, size=(n, 2)) * nr.binomial(1, p=0.0075, size=(n, 2)), columns=[\"A\", \"B\"])\n",
    "frame[\"A+B\"] = frame.sum(axis=1)\n",
    "\n",
    "print(\"VALUE AT RISK\")\n",
    "print(frame.apply(value_at_risk, alpha=alpha))\n",
    "\n",
    "print(\"CONDITIONAL VALUE AT RISK\")\n",
    "print(frame.apply(cvalue_at_risk, alpha=alpha))"
   ]
  },
  {
   "cell_type": "markdown",
   "metadata": {
    "slideshow": {
     "slide_type": "slide"
    }
   },
   "source": [
    "We introduce a free variable $\\gamma$ and define the function $f$ as:\n",
    "\\begin{eqnarray}\n",
    "f(\\gamma) &=& \\gamma + \\frac{1}{n\\,(1-\\alpha)}\\sum (r_i - \\gamma)^{+}\n",
    "\\end{eqnarray}\n",
    "This is a continuous and convex function (in $\\gamma$). The first derivative is:\n",
    "$$\n",
    "f^{'}(\\gamma) = 1 - \\frac{\\#\\left\\{r_i \\geq \\gamma\\right\\}}{n\\,(1-\\alpha)}\n",
    "$$"
   ]
  },
  {
   "cell_type": "markdown",
   "metadata": {
    "slideshow": {
     "slide_type": "fragment"
    }
   },
   "source": [
    "If $\\gamma$ such that $\\#\\{r_i \\geq \\gamma\\}=n\\,(1-\\alpha)$:\n",
    "- $\\gamma$ is a minimizer of $f$. \n",
    "- $f(\\gamma) =\\mathtt{CVaR}_\\alpha(\\mathbf{r})$.\n",
    "\n",
    "In particular:\n",
    "\n",
    "* $f(\\mathtt{VaR}_\\alpha(\\mathbf{r})) = \\mathtt{CVaR}_\\alpha(\\mathbf{r})$. "
   ]
  },
  {
   "cell_type": "code",
   "execution_count": null,
   "metadata": {
    "collapsed": false,
    "slideshow": {
     "slide_type": "slide"
    }
   },
   "outputs": [],
   "source": [
    "import numpy as np\n",
    "import matplotlib.pyplot as plt\n",
    "\n",
    "def f(gamma, returns, alpha=0.99):\n",
    "    excess = returns - gamma\n",
    "    return gamma + 1.0 / (len(returns) * (1 - alpha)) * excess[excess > 0].sum()\n",
    "\n",
    "r = np.array([-1.0, 2.0, 3.0, 2.0, 4.0, 2.0, 0.0, 1.0, -2.0, -2.0])\n",
    "x = np.linspace(start=-1.0, stop=5.0, num=1000)\n",
    "v = np.array([f(gamma=g, returns=r, alpha=0.80) for g in x])\n",
    "\n",
    "plt.plot(x, v), plt.grid(True), plt.xlabel('$\\gamma$'), plt.ylabel('$f$')\n",
    "plt.title('Conditional value at risk as global minimum of a function f')\n",
    "plt.axis([0, 5, 3, 6])\n",
    "plt.show()"
   ]
  },
  {
   "cell_type": "markdown",
   "metadata": {
    "slideshow": {
     "slide_type": "slide"
    }
   },
   "source": [
    "\\begin{align}\\mathtt{CVaR}(\\mathbf{r})=\\min_{\\gamma \\in \\mathbb{R}, \\mathbf{t} \\in \\mathbb{R}^n} \\,&\\, \\gamma + \\frac{1}{n\\,(1-\\alpha)}\\sum t_i\\\\\n",
    "\\text{s.t. }&t_i \\geq r_i - \\gamma \\\\\n",
    "            &\\mathbf{t}\\geq 0\n",
    "\\end{align}"
   ]
  },
  {
   "cell_type": "code",
   "execution_count": null,
   "metadata": {
    "collapsed": false,
    "slideshow": {
     "slide_type": "slide"
    }
   },
   "outputs": [],
   "source": [
    "from mosek.fusion import *\n",
    "import numpy as np\n",
    "\n",
    "R = [-1.0, 2.0, 3.0, 2.0, 4.0, 2.0, 0.0, 1.0, -2.0, -2.0]\n",
    "\n",
    "n = len(R)\n",
    "# We are interested in CVaR for alpha=0.80, e.g. what's the mean of the 20% of the biggest losses\n",
    "alpha = 0.80\n",
    "\n",
    "with Model('cvar') as model:\n",
    "    # introduce the variable for the var\n",
    "    gamma = model.variable(\"gamma\", 1, Domain.unbounded())\n",
    "\n",
    "    # Auxiliary variable\n",
    "    t = model.variable(\"t\", n, Domain.greaterThan(0.0))\n",
    "\n",
    "    # t > r-gamma <===> t + gamma > r\n",
    "    model.constraint(Expr.add(t, Variable.repeat(gamma, n)), Domain.greaterThan(R))\n",
    "\n",
    "    # gamma + 1/[n*(1-alpha)] * \\sum{t}\n",
    "    cvar = Expr.add(gamma, Expr.mul(1.0 / (n * (1 - alpha)), Expr.sum(t)))\n",
    "\n",
    "    # minimization of the conditional value at risk\n",
    "    model.objective(ObjectiveSense.Minimize, cvar)\n",
    "    model.solve()\n",
    "\n",
    "    print(\"A minimizer of f (<= VaR):  {0}\".format(gamma.level()[0]))\n",
    "    print(\"Minimum of f (== CVaR):     {0}\".format(gamma.level()[0] + 1.0 / (n * (1 - alpha)) * np.array(t.level()).sum()))"
   ]
  },
  {
   "cell_type": "markdown",
   "metadata": {
    "slideshow": {
     "slide_type": "slide"
    }
   },
   "source": [
    "Summary\n",
    "-------\n",
    "\n",
    "* The Conditional Value at Risk $\\mathtt{CVaR}$ is a coherent risk measure.\n",
    "\n",
    "* We could compute the $\\mathtt{CVaR}$ for a vector of length $n$ by solving a convex program in $n+1$ dimensions.\n",
    "\n",
    "* We do not need to sort the elements nor do we need to know the Value at Risk $\\mathtt{VaR}$.\n",
    "\n",
    "In practice the vector $\\mathbf{r}$ is not given. Rather we have $m$ assets and try to find a linear combination of their corresponding return vectors such that the resulting portfolio has minimal Conditional Value at Risk.\n"
   ]
  },
  {
   "cell_type": "code",
   "execution_count": null,
   "metadata": {
    "collapsed": false,
    "slideshow": {
     "slide_type": "slide"
    }
   },
   "outputs": [],
   "source": [
    "from mosek.fusion import *\n",
    "import numpy as np\n",
    "import matplotlib.pyplot as plt\n",
    "\n",
    "R = np.random.randn(2500,200)\n",
    "\n",
    "n,m = R.shape\n",
    "n = int(n)\n",
    "m = int(m)\n",
    "# We are interested in CVaR for alpha=0.95, e.g. what's the mean of the 5% of the biggest losses\n",
    "alpha = 0.95\n",
    "\n",
    "with Model('cvar') as model:\n",
    "    # introduce the variable for the var\n",
    "    gamma = model.variable(\"gamma\", 1, Domain.unbounded())\n",
    "    weight = model.variable(\"weight\",m, Domain.inRange(0.0, 1.0))\n",
    "    # Auxiliary variable\n",
    "    t = model.variable(\"t\", n, Domain.greaterThan(0.0))\n",
    "\n",
    "    # e'*w = 1\n",
    "    model.constraint(Expr.sum(weight), Domain.equalsTo(1.0))\n",
    "        \n",
    "    # r = R*w\n",
    "    r = Expr.mul(DenseMatrix(R), weight)\n",
    "        \n",
    "    # t > r-gamma <===> t + gamma - r > 0\n",
    "    model.constraint(Expr.sub(Expr.add(t, Variable.repeat(gamma, n)),r), Domain.greaterThan(0.0))   \n",
    "\n",
    "    # gamma + 1/[n*(1-alpha)] * \\sum{t}\n",
    "    cvar = Expr.add(gamma, Expr.mul(1.0 / (n * (1 - alpha)), Expr.sum(t)))\n",
    "\n",
    "    # minimization of the conditional value at risk\n",
    "    model.objective(ObjectiveSense.Minimize, cvar)\n",
    "    model.solve()\n",
    "\n",
    "    var = gamma.level()[0]\n",
    "    cvar = gamma.level()[0] + 1.0 / (n * (1 - alpha)) * np.array(t.level()).sum()\n",
    "    print(\"Minimizer of f (<= VaR):  {0}\".format(var))\n",
    "    print(\"Minimum of f (== CVaR):   {0}\".format(cvar))\n",
    "    a=np.dot(R,weight.level())\n",
    "    plt.hist(a, bins=100)\n",
    "    plt.axis([-0.4, 0.4, 0, 250])\n",
    "    plt.title(\"CVaR {0}\".format(cvar))\n",
    "    plt.show()"
   ]
  },
  {
   "cell_type": "markdown",
   "metadata": {
    "slideshow": {
     "slide_type": "slide"
    }
   },
   "source": [
    "<a href=http://localhost:8888>Back to Overview</a>"
   ]
  }
 ],
 "metadata": {
  "celltoolbar": "Slideshow",
  "kernelspec": {
   "display_name": "Python 2",
   "language": "python",
   "name": "python2"
  },
  "language_info": {
   "codemirror_mode": {
    "name": "ipython",
    "version": 2
   },
   "file_extension": ".py",
   "mimetype": "text/x-python",
   "name": "python",
   "nbconvert_exporter": "python",
   "pygments_lexer": "ipython2",
   "version": "2.7.10"
  }
 },
 "nbformat": 4,
 "nbformat_minor": 0
}
